{
 "cells": [
  {
   "cell_type": "markdown",
   "id": "88be9537",
   "metadata": {},
   "source": [
    "## STAP 1. Data importeren en opschonen"
   ]
  },
  {
   "cell_type": "code",
   "execution_count": null,
   "id": "e55a3b0e",
   "metadata": {},
   "outputs": [],
   "source": [
    "import pandas as pd\n",
    "\n",
    "df = pd.read_csv(\"Heerlen_dataset.csv\")\n",
    "\n",
    "df = df.dropna(subset=['bouwjaar', 'opp_pand', 'lon', 'lat'])\n",
    "\n",
    "df['bouwjaar'] = pd.to_numeric(df['bouwjaar'], errors='coerce')\n",
    "df['opp_pand'] = pd.to_numeric(df['opp_pand'], errors='coerce')\n",
    "\n",
    "df['adres'] = df['openbareruimtenaam'].fillna('') + ' ' + df['huisnummer'].astype(str)"
   ]
  },
  {
   "cell_type": "markdown",
   "id": "fa60670f",
   "metadata": {},
   "source": [
    "## STAP 2. Twinbuilding-voorspelfunctie definiëren\n",
    "\n",
    "Doel: vergelijk een gekozen gebouw met de rest van de dataset op basis van:\n",
    "* Bouwjaar (± 5 jaar)\n",
    "* Oppervlakte (± 10%)\n",
    "* Gelijk woningtype\n",
    "* Zelfde gebruiksfuncties (zoals winkel, kantoor, woon)"
   ]
  },
  {
   "cell_type": "code",
   "execution_count": null,
   "id": "781dc88e",
   "metadata": {},
   "outputs": [],
   "source": [
    "def find_twins(ref, df, buffer_years=5, surface_tolerance=0.1):\n",
    "    matches = df[\n",
    "        (df['pand_id'] != ref['pand_id']) &\n",
    "        (abs(df['bouwjaar'] - ref['bouwjaar']) <= buffer_years) &\n",
    "        (abs(df['opp_pand'] - ref['opp_pand']) / ref['opp_pand'] <= surface_tolerance) &\n",
    "        (df['woningtype'] == ref['woningtype']) &\n",
    "        (df[['woonfunctie', 'kantoorfunctie', 'winkelfunctie']].eq(\n",
    "            ref[['woonfunctie', 'kantoorfunctie', 'winkelfunctie']]\n",
    "        ).all(axis=1))\n",
    "    ]\n",
    "    return matches"
   ]
  },
  {
   "cell_type": "markdown",
   "id": "98a04618",
   "metadata": {},
   "source": [
    "## STAP 3. Interactieve kaartweergave maken met folium\n",
    "\n",
    "Doel: toon de referentie en gevonden twins op een kaart.\n",
    "* Rood icoon = referentiegebouw\n",
    "* Blauwe iconen = mogelijke twinbuildings\n",
    "* Toon extra informatie bij klikken op marker (popup)"
   ]
  },
  {
   "cell_type": "code",
   "execution_count": null,
   "id": "1aae2262",
   "metadata": {},
   "outputs": [],
   "source": [
    "import folium\n",
    "from folium.plugins import MarkerCluster\n",
    "from IPython.display import display\n",
    "from ipywidgets import Output\n",
    "\n",
    "out = Output()\n",
    "\n",
    "def show_map_by_adres(adres):\n",
    "    out.clear_output()\n",
    "    with out:\n",
    "        ref = df[df['adres'] == adres].iloc[0]\n",
    "        twins = find_twins(ref, df)\n",
    "\n",
    "        m = folium.Map(location=[ref['lat'], ref['lon']], zoom_start=16)\n",
    "        MarkerCluster().add_to(m)\n",
    "\n",
    "        folium.Marker(\n",
    "            [ref['lat'], ref['lon']],\n",
    "            popup=f\"<b>Referentie</b><br>{ref['adres']}<br>{int(ref['bouwjaar'])}, {int(ref['opp_pand'])} m²\",\n",
    "            icon=folium.Icon(color=\"red\", icon=\"home\")\n",
    "        ).add_to(m)\n",
    "\n",
    "        for _, r in twins.iterrows():\n",
    "            folium.Marker(\n",
    "                [r['lat'], r['lon']],\n",
    "                popup=f\"{r['adres']}<br>{int(r['bouwjaar'])}, {int(r['opp_pand'])} m²\",\n",
    "                icon=folium.Icon(color=\"blue\", icon=\"home\")\n",
    "            ).add_to(m)\n",
    "\n",
    "        display(m)\n",
    "\n",
    "        print(f\"\\nGevonden twinbuildings: {len(twins)}\")\n",
    "        display(twins[['adres', 'bouwjaar', 'opp_pand', 'woningtype']].drop_duplicates().reset_index(drop=True))"
   ]
  },
  {
   "cell_type": "markdown",
   "id": "c421f54d",
   "metadata": {},
   "source": [
    "## STAP 4. Interactieve gebruikersinterface maken\n",
    "\n",
    "Doel: laat gebruiker zelf adres selecteren via dropdown (of later zoekfunctie toevoegen).\n",
    "* Zodra iets geselecteerd is, roep je automatisch de kaartfunctie aan.\n",
    "* Output verschijnt direct onder de selectie."
   ]
  },
  {
   "cell_type": "code",
   "execution_count": null,
   "id": "311c257e",
   "metadata": {},
   "outputs": [],
   "source": [
    "from ipywidgets import interact, Dropdown\n",
    "\n",
    "interact(\n",
    "    show_map_by_adres,\n",
    "    adres=Dropdown(\n",
    "        options=sorted(df['adres'].unique()),\n",
    "        description=\"Adres:\"\n",
    "    )\n",
    ")\n",
    "display(out)"
   ]
  }
 ],
 "metadata": {
  "kernelspec": {
   "display_name": "zm001ds",
   "language": "python",
   "name": "python3"
  },
  "language_info": {
   "codemirror_mode": {
    "name": "ipython",
    "version": 3
   },
   "file_extension": ".py",
   "mimetype": "text/x-python",
   "name": "python",
   "nbconvert_exporter": "python",
   "pygments_lexer": "ipython3",
   "version": "3.10.16"
  }
 },
 "nbformat": 4,
 "nbformat_minor": 5
}
