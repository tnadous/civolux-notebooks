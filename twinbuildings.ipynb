{
 "cells": [
  {
   "cell_type": "markdown",
   "id": "88be9537",
   "metadata": {},
   "source": [
    "Stap 1 – Data importeren en opschonen"
   ]
  },
  {
   "cell_type": "code",
   "execution_count": 32,
   "id": "e55a3b0e",
   "metadata": {},
   "outputs": [],
   "source": [
    "import pandas as pd\n",
    "\n",
    "# Dataset inladen\n",
    "df = pd.read_csv(\"Heerlen_dataset.csv\")\n",
    "\n",
    "# Verwijder rijen zonder cruciale informatie\n",
    "df = df.dropna(subset=['bouwjaar', 'opp_pand', 'lon', 'lat'])\n",
    "\n",
    "# Zorg dat de kolommen numeriek zijn voor berekeningen\n",
    "df['bouwjaar'] = pd.to_numeric(df['bouwjaar'], errors='coerce')\n",
    "df['opp_pand'] = pd.to_numeric(df['opp_pand'], errors='coerce')\n",
    "\n",
    "# Voeg een extra kolom toe met het volledige adres als één string\n",
    "df['adres'] = df['openbareruimtenaam'].fillna('') + ' ' + df['huisnummer'].astype(str)"
   ]
  },
  {
   "cell_type": "markdown",
   "id": "fa60670f",
   "metadata": {},
   "source": [
    "Stap 2 – Twinbuilding-voorspelfunctie definiëren\n",
    "\n",
    "Doel: vergelijk een gekozen gebouw met de rest van de dataset op basis van:\n",
    "* Bouwjaar (± 5 jaar)\n",
    "* Oppervlakte (± 10%)\n",
    "* Gelijk woningtype\n",
    "* Zelfde gebruiksfuncties (zoals winkel, kantoor, woon)"
   ]
  },
  {
   "cell_type": "code",
   "execution_count": 33,
   "id": "781dc88e",
   "metadata": {},
   "outputs": [],
   "source": [
    "def find_twins(ref, df, buffer_years=5, surface_tolerance=0.1):\n",
    "    matches = df[\n",
    "        (df['pand_id'] != ref['pand_id']) &  # Niet zichzelf vergelijken\n",
    "        (abs(df['bouwjaar'] - ref['bouwjaar']) <= buffer_years) &\n",
    "        (abs(df['opp_pand'] - ref['opp_pand']) / ref['opp_pand'] <= surface_tolerance) &\n",
    "        (df['woningtype'] == ref['woningtype']) &\n",
    "        (df[['woonfunctie', 'kantoorfunctie', 'winkelfunctie']].eq(\n",
    "            ref[['woonfunctie', 'kantoorfunctie', 'winkelfunctie']]\n",
    "        ).all(axis=1))\n",
    "    ]\n",
    "    return matches"
   ]
  },
  {
   "cell_type": "markdown",
   "id": "98a04618",
   "metadata": {},
   "source": [
    "Stap 3 – Interactieve kaartweergave maken met folium\n",
    "\n",
    "Doel: toon de referentie en gevonden twins op een kaart.\n",
    "* Rood icoon = referentiegebouw\n",
    "* Blauwe iconen = mogelijke twinbuildings\n",
    "* Toon extra informatie bij klikken op marker (popup)"
   ]
  },
  {
   "cell_type": "code",
   "execution_count": 34,
   "id": "1aae2262",
   "metadata": {},
   "outputs": [],
   "source": [
    "import folium\n",
    "from folium.plugins import MarkerCluster\n",
    "from IPython.display import display\n",
    "from ipywidgets import Output\n",
    "\n",
    "out = Output()\n",
    "\n",
    "def show_map_by_adres(adres):\n",
    "    out.clear_output()\n",
    "    with out:\n",
    "        ref = df[df['adres'] == adres].iloc[0]          # Gebruikerselectie\n",
    "        twins = find_twins(ref, df)                     # Twinbuilding zoekactie\n",
    "\n",
    "        m = folium.Map(location=[ref['lat'], ref['lon']], zoom_start=16)\n",
    "        MarkerCluster().add_to(m)\n",
    "\n",
    "        # Marker voor referentiegebouw\n",
    "        folium.Marker(\n",
    "            [ref['lat'], ref['lon']],\n",
    "            popup=f\"<b>Referentie</b><br>{ref['adres']}<br>{int(ref['bouwjaar'])}, {int(ref['opp_pand'])} m²\",\n",
    "            icon=folium.Icon(color=\"red\", icon=\"home\")\n",
    "        ).add_to(m)\n",
    "\n",
    "        # Markers voor twins\n",
    "        for _, r in twins.iterrows():\n",
    "            folium.Marker(\n",
    "                [r['lat'], r['lon']],\n",
    "                popup=f\"{r['adres']}<br>{int(r['bouwjaar'])}, {int(r['opp_pand'])} m²\",\n",
    "                icon=folium.Icon(color=\"blue\", icon=\"home\")\n",
    "            ).add_to(m)\n",
    "\n",
    "        display(m)\n",
    "\n",
    "        # Toon resultaten als tabel\n",
    "        print(f\"\\nGevonden twinbuildings: {len(twins)}\")\n",
    "        display(twins[['adres', 'bouwjaar', 'opp_pand', 'woningtype']].drop_duplicates().reset_index(drop=True))"
   ]
  },
  {
   "cell_type": "markdown",
   "id": "c421f54d",
   "metadata": {},
   "source": [
    "Stap 4 – Interactieve gebruikersinterface maken\n",
    "\n",
    "Doel: laat gebruiker zelf adres selecteren via dropdown (of later zoekfunctie toevoegen).\n",
    "* Zodra iets geselecteerd is, roep je automatisch de kaartfunctie aan.\n",
    "* Output verschijnt direct onder de selectie."
   ]
  },
  {
   "cell_type": "code",
   "execution_count": null,
   "id": "311c257e",
   "metadata": {},
   "outputs": [
    {
     "data": {
      "application/vnd.jupyter.widget-view+json": {
       "model_id": "4e0c256a33234d4a8dbdb44e35271521",
       "version_major": 2,
       "version_minor": 0
      },
      "text/plain": [
       "interactive(children=(Dropdown(description='Adres:', options=('A gen Giezen 1', 'A gen Giezen 10', 'A gen Giez…"
      ]
     },
     "metadata": {},
     "output_type": "display_data"
    },
    {
     "data": {
      "application/vnd.jupyter.widget-view+json": {
       "model_id": "fdc447043acb458190aac784017c2014",
       "version_major": 2,
       "version_minor": 0
      },
      "text/plain": [
       "Output()"
      ]
     },
     "metadata": {},
     "output_type": "display_data"
    }
   ],
   "source": [
    "from ipywidgets import interact, Dropdown\n",
    "\n",
    "interact(\n",
    "    show_map_by_adres,\n",
    "    adres=Dropdown(\n",
    "        options=sorted(df['adres'].unique()),\n",
    "        description=\"Adres:\"\n",
    "    )\n",
    ")\n",
    "display(out)"
   ]
  }
 ],
 "metadata": {
  "kernelspec": {
   "display_name": "zm001ds",
   "language": "python",
   "name": "python3"
  },
  "language_info": {
   "codemirror_mode": {
    "name": "ipython",
    "version": 3
   },
   "file_extension": ".py",
   "mimetype": "text/x-python",
   "name": "python",
   "nbconvert_exporter": "python",
   "pygments_lexer": "ipython3",
   "version": "3.10.16"
  }
 },
 "nbformat": 4,
 "nbformat_minor": 5
}
