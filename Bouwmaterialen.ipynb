# 1. Notebook Bouwmaterialen.ipynb
# Doel en context

Dit notebook heeft als doel om het aantal materialen die een funnctie heeft te weergeven. Dit is essentieel voor het project, omdat hierin staat uit welke functies welke materialen gehaald kunnen worden voor nieuwbouw.

# Achtergrond van het probleem

De materialen van oude gebouwen worden vaak weggegooid, terwijl dezevaak nog hergebruikt kan worden. Door het beter te documenteren van bouwmaterialen in deze functies, kunnen de bouwmaterialen gerecycled worden voor nieuwbouw.
# Stap 1. Datasets inladen
import pandas as pd

df = pd.read_csv(r"C:\Users\niels\Downloads\Heerlen_dataset.csv")
df

df = pd.read_csv(r"C:\Users\niels\OneDrive\Documents\materiaal.csv")
df
Deze tabel is gemaakt aan de hand van een tabel uit https://www.cirkelregio-utrecht.nl/wp-content/uploads/2022/12/universiteit_leiden.pdf 
# Stap 2. Materiaalhoeveelheden Berekenen
df_heerlen = pd.read_csv(r"C:\Users\niels\Downloads\Heerlen_dataset.csv")
